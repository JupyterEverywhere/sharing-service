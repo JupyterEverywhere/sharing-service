{
  "cells": [
    {
      "cell_type": "markdown",
      "id": "ad58dfe2",
      "metadata": {},
      "source": [
        "# R Example Notebook\n",
        "\n",
        "This is an example R notebook for testing the sharing service.\n"
      ]
    },
    {
      "cell_type": "code",
      "execution_count": null,
      "id": "287184e4",
      "metadata": {
        "vscode": {
          "languageId": "r"
        }
      },
      "outputs": [],
      "source": [
        "# Simple R calculation\n",
        "for (x in 1:20) {\n",
        "  print(x**2)\n",
        "}"
      ]
    }
  ],
  "metadata": {
    "kernelspec": {
      "display_name": "R 4.4.3 (xr)",
      "language": "R",
      "name": "xr"
    },
    "language_info": {
      "codemirror_mode": "",
      "file_extension": "R",
      "mimetype": "text/x-R",
      "name": "R",
      "nbconvert_exporter": "",
      "pygments_lexer": "",
      "version": "4.4.3"
    }
  },
  "nbformat": 4,
  "nbformat_minor": 5
}

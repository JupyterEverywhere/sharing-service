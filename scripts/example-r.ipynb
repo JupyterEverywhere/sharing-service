{
 "cells": [
  {
   "cell_type": "markdown",
   "id": "6be5ea7b",
   "metadata": {},
   "source": [
    "# R Example Notebook\n",
    "\n",
    "This is an example R notebook for testing the sharing service.\n"
   ]
  },
  {
   "cell_type": "code",
   "execution_count": 1,
   "id": "73de5c01-7d4f-478d-bc20-bcfc235f443c",
   "metadata": {
    "trusted": true,
    "vscode": {
     "languageId": "r"
    }
   },
   "outputs": [
    {
     "name": "stdout",
     "output_type": "stream",
     "text": [
      "[1] 1\n",
      "[1] 4\n",
      "[1] 9\n",
      "[1] 16\n",
      "[1] 25\n",
      "[1] 36\n",
      "[1] 49\n",
      "[1] 64\n",
      "[1] 81\n",
      "[1] 100\n",
      "[1] 121\n",
      "[1] 144\n",
      "[1] 169\n",
      "[1] 196\n",
      "[1] 225\n",
      "[1] 256\n",
      "[1] 289\n",
      "[1] 324\n",
      "[1] 361\n",
      "[1] 400\n"
     ]
    }
   ],
   "source": [
    "for (x in 1:20) {\n",
    "  print(x**2)\n",
    "}"
   ]
  },
  {
   "cell_type": "code",
   "execution_count": null,
   "id": "e7d0a2d2-3610-4c62-b4aa-f63e7c5017a8",
   "metadata": {
    "trusted": true,
    "vscode": {
     "languageId": "r"
    }
   },
   "outputs": [],
   "source": []
  }
 ],
 "metadata": {
  "kernelspec": {
   "display_name": "R 4.4.3 (xr)",
   "language": "R",
   "name": "xr"
  },
  "language_info": {
   "codemirror_mode": "",
   "file_extension": "R",
   "mimetype": "text/x-R",
   "name": "R",
   "nbconvert_exporter": "",
   "pygments_lexer": "",
   "version": "4.4.3"
  }
 },
 "nbformat": 4,
 "nbformat_minor": 5
}

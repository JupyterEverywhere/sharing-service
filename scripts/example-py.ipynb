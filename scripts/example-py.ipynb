{
  "cells": [
    {
      "cell_type": "markdown",
      "id": "cell-1",
      "metadata": {},
      "source": [
        "# Python Example Notebook\n",
        "\n",
        "This is an example Python notebook for testing the sharing service.\n"
      ]
    },
    {
      "cell_type": "code",
      "execution_count": null,
      "id": "cell-2",
      "metadata": {},
      "outputs": [],
      "source": [
        "import pandas as pd\n",
        "import numpy as np\n",
        "\n",
        "# Create a simple dataset\n",
        "data = {\n",
        "    'x': range(1, 11),\n",
        "    'y': [i**2 for i in range(1, 11)]\n",
        "}\n",
        "\n",
        "df = pd.DataFrame(data)\n",
        "print(\"Sample DataFrame:\")\n",
        "print(df.head())\n",
        "\n",
        "# Calculate some statistics\n",
        "print(f\"\n",
        "Mean of y: {df['y'].mean()}\")\n",
        "print(f\"Sum of y: {df['y'].sum()}\")"
      ]
    }
  ],
  "metadata": {
    "kernelspec": {
      "display_name": "Python 3",
      "language": "python",
      "name": "python3"
    },
    "language_info": {
      "codemirror_mode": {
        "name": "ipython",
        "version": 3
      },
      "file_extension": ".py",
      "mimetype": "text/x-python",
      "name": "python",
      "nbconvert_exporter": "python",
      "version": "3.8.5"
    }
  },
  "nbformat": 4,
  "nbformat_minor": 5
}
